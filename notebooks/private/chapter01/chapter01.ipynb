{
 "cells": [
  {
   "cell_type": "code",
   "execution_count": 2,
   "metadata": {},
   "outputs": [],
   "source": [
    "%load_ext autoreload\n",
    "%autoreload 2"
   ]
  },
  {
   "cell_type": "code",
   "execution_count": 3,
   "metadata": {},
   "outputs": [],
   "source": [
    "%matplotlib inline"
   ]
  },
  {
   "cell_type": "code",
   "execution_count": 4,
   "metadata": {},
   "outputs": [],
   "source": [
    "import numpy as np\n",
    "import matplotlib.pyplot as plt\n",
    "import pathlib\n",
    "import pandas as pd\n",
    "import sys\n",
    "sys.path.append(\"../..\")\n",
    "import re\n",
    "import polars as pl"
   ]
  },
  {
   "cell_type": "code",
   "execution_count": 5,
   "metadata": {},
   "outputs": [],
   "source": [
    "from alada import chap01"
   ]
  },
  {
   "cell_type": "code",
   "execution_count": 6,
   "metadata": {},
   "outputs": [],
   "source": [
    "from matplotlib import rc\n",
    "rc('font',**{'family':'sans-serif','sans-serif':['Helvetica']})\n",
    "plt.rcParams['svg.fonttype'] = 'none'\n",
    "# rc('text', usetex=True)"
   ]
  },
  {
   "cell_type": "code",
   "execution_count": 7,
   "metadata": {},
   "outputs": [],
   "source": [
    "datadir = \"../../../data/chapter01/\"\n",
    "outdir = \"output\"\n",
    "pathlib.Path(outdir).mkdir(parents=True, exist_ok=True)"
   ]
  },
  {
   "cell_type": "markdown",
   "metadata": {},
   "source": [
    "### Program to cluster medical notes"
   ]
  },
  {
   "cell_type": "code",
   "execution_count": 8,
   "metadata": {},
   "outputs": [],
   "source": [
    "# Find the token count in the medical records\n",
    "def count_tokens(note, tokens):\n",
    "    return np.array([note.count(tok) for tok in tokens])"
   ]
  },
  {
   "cell_type": "code",
   "execution_count": 9,
   "metadata": {},
   "outputs": [],
   "source": [
    "def get_all_text_for_medspec(medrec, col):\n",
    "    # Find the bag of words for the medical notes.\n",
    "    # Remove numbers and special characters\n",
    "    pattern = re.compile(r'[^\\w\\s]|\\d')\n",
    "    msepcs = medrec[\"medical_specialty\"].unique()\n",
    "    alltext = {}\n",
    "    for ms in msepcs:\n",
    "        inx = medrec[\"medical_specialty\"] == ms\n",
    "        # Find the list of all unqiue tokens in the medical notes.\n",
    "        alltext[ms] = \" \".join(medrec[inx][col].values)\n",
    "    return alltext\n",
    "\n",
    "def get_tokens_for_medspec(medrec, col):\n",
    "    # Get all text for each medical specialty\n",
    "    alltext = get_all_text_for_medspec(medrec, col)\n",
    "    # Find the bag of words for the medical notes.\n",
    "    # Remove numbers and special characters\n",
    "    pattern = re.compile(r'[^\\w\\s]|\\d')\n",
    "    msepcs = medrec[\"medical_specialty\"].unique()\n",
    "    tokens = {}\n",
    "    for ms, txt in alltext.items():\n",
    "        tokens[ms] = [s for s in np.unique(txt.split())\n",
    "                      if not pattern.search(s) and len(s) > 5]\n",
    "    return tokens\n",
    "\n",
    "def get_unique_tokens_for_medspec(ms_tokens):\n",
    "    # Get unique tokens for each medical specialty\n",
    "    ms_unique_tokens = {}\n",
    "    for _k, _v in ms_tokens.items():\n",
    "        # Find the unique tokens for each medical specialty\n",
    "        _toks = set(_v)\n",
    "        for _ms in ms_tokens.keys():\n",
    "            if _ms != _k:\n",
    "                _toks -= set(ms_tokens[_ms])\n",
    "        ms_unique_tokens[_k] = list(_toks)\n",
    "    return ms_unique_tokens"
   ]
  },
  {
   "cell_type": "code",
   "execution_count": 10,
   "metadata": {},
   "outputs": [],
   "source": [
    "# Read header for tokens\n",
    "with open(datadir + \"reports.csv\") as f:\n",
    "    tokens = [_s.strip() for _s in f.readline().split(':')[-1].split(\",\")]\n",
    "\n",
    "# Read the medical records file.\n",
    "medrec = pd.read_csv(datadir + \"reports.csv\", skiprows=2)\n",
    "medrec[\"medical_specialty\"].value_counts()\n",
    "# Make the reports column lower case\n",
    "medrec[\"report_lower\"] = medrec[\"report\"].str.lower()"
   ]
  },
  {
   "cell_type": "code",
   "execution_count": 11,
   "metadata": {},
   "outputs": [],
   "source": [
    "# Get all potential tokens for each medical specialty\n",
    "ms_tokens = get_tokens_for_medspec(medrec, col=\"report_lower\")\n",
    "ms_unique_tokens = get_unique_tokens_for_medspec(ms_tokens)"
   ]
  },
  {
   "cell_type": "code",
   "execution_count": 12,
   "metadata": {},
   "outputs": [],
   "source": [
    "# All text for each medical specialty\n",
    "ms_alltext = get_all_text_for_medspec(medrec, col=\"report_lower\")\n",
    "ms_token_count = {}\n",
    "for k, txt in ms_alltext.items():\n",
    "    _cnts = [txt.count(_t) for _t in ms_unique_tokens[k]]\n",
    "    # Polar dataframe from the counts dictionary\n",
    "    ms_token_count[k] = pl.DataFrame(\n",
    "        data={\"token\": ms_unique_tokens[k], \"count\": _cnts},\n",
    "        schema={\"token\": pl.String, \"count\": pl.Int64}\n",
    "    ).sort(\"count\", descending=True)\n",
    "\n",
    "# Choose the top 15 tokens for each medical specialty\n",
    "top_tokens = []\n",
    "for k, v in ms_token_count.items():\n",
    "    top_tokens += v.head(5)[\"token\"].to_list()"
   ]
  },
  {
   "cell_type": "markdown",
   "metadata": {},
   "source": [
    "### Clustering with kmeans"
   ]
  },
  {
   "cell_type": "code",
   "execution_count": 13,
   "metadata": {},
   "outputs": [],
   "source": [
    "# Read header for tokens\n",
    "with open(datadir + \"reports.csv\") as f:\n",
    "    tokens = [_s.strip() for _s in f.readline().split(':')[-1].split(\",\")]\n",
    "\n",
    "# Read the medical records file.\n",
    "medrec = pd.read_csv(datadir + \"reports.csv\", skiprows=2)\n",
    "medrec[\"medical_specialty\"].value_counts()\n",
    "# Make the reports column lower case\n",
    "medrec[\"report_lower\"] = medrec[\"report\"].str.lower()"
   ]
  },
  {
   "cell_type": "code",
   "execution_count": 14,
   "metadata": {},
   "outputs": [
    {
     "data": {
      "text/plain": [
       "(1091, 25)"
      ]
     },
     "execution_count": 14,
     "metadata": {},
     "output_type": "execute_result"
    }
   ],
   "source": [
    "# Get the token vectors for each medical note.\n",
    "inx = medrec[\"medical_specialty\"] != \"Surgery\"\n",
    "medrec = medrec[inx]\n",
    "medrec.reset_index(inplace=True, drop=True)\n",
    "tokvec = np.array([count_tokens(_v, tokens) for _v in medrec['report_lower'].values])\n",
    "tokvec.shape"
   ]
  },
  {
   "cell_type": "code",
   "execution_count": 15,
   "metadata": {},
   "outputs": [],
   "source": [
    "k = 4\n",
    "km = chap01.KMeans(X=tokvec, k=4)\n",
    "cm, ca, j = km.fit()"
   ]
  },
  {
   "cell_type": "code",
   "execution_count": 16,
   "metadata": {},
   "outputs": [
    {
     "name": "stdout",
     "output_type": "stream",
     "text": [
      "Cluster 0:  2.517\n",
      "Cardiovascular / Pulmonary    69\n",
      "Radiology                     16\n",
      "Neurology                     13\n",
      "Gastroenterology               4\n",
      "Name: medical_specialty, dtype: int64\n",
      "\n",
      "Cluster 1:  8.075\n",
      "Cardiovascular / Pulmonary    17\n",
      "Name: medical_specialty, dtype: int64\n",
      "\n",
      "Cluster 2:  6.225\n",
      "Neurology    4\n",
      "Name: medical_specialty, dtype: int64\n",
      "\n",
      "Cluster 3:  0.818\n",
      "Cardiovascular / Pulmonary    285\n",
      "Radiology                     257\n",
      "Gastroenterology              220\n",
      "Neurology                     206\n",
      "Name: medical_specialty, dtype: int64\n",
      "\n"
     ]
    }
   ],
   "source": [
    "# Find the medical specialty for each cluster\n",
    "medrec[\"cluster\"] = ca[-1]\n",
    "# Print value counts for different clusters.\n",
    "for _c in range(k):\n",
    "    print(f\"Cluster {_c}: {np.linalg.norm(cm[-1][_c]): .3f}\")\n",
    "    print(medrec[medrec[\"cluster\"] == _c][\"medical_specialty\"].value_counts())\n",
    "    print()"
   ]
  },
  {
   "cell_type": "code",
   "execution_count": 17,
   "metadata": {},
   "outputs": [
    {
     "data": {
      "image/png": "[encoded data removed]",
      "text/plain": [
       "<Figure size 640x480 with 1 Axes>"
      ]
     },
     "metadata": {},
     "output_type": "display_data"
    }
   ],
   "source": [
    "plt.plot(cm[-1].T + np.array([0, 1, 2, 3]));"
   ]
  },
  {
   "cell_type": "code",
   "execution_count": null,
   "metadata": {},
   "outputs": [],
   "source": []
  },
  {
   "cell_type": "markdown",
   "metadata": {},
   "source": [
    "### Clustering using k-means\n"
   ]
  },
  {
   "cell_type": "code",
   "execution_count": 18,
   "metadata": {},
   "outputs": [],
   "source": [
    "def get_cluster_assignment(tvec, mvec):\n",
    "    return np.argmin(np.linalg.norm(mvec - tvec, axis=1))\n",
    "\n",
    "def get_cluster_mean(tokvec, clustassign):\n",
    "    return np.array([np.mean(tokvec[clustassign == _c, :], axis=0)\n",
    "                     for _c in np.unique(clustassign)])\n",
    "\n",
    "def get_j_clust(tokvec, mvec, clustassign):\n",
    "    return np.sum([np.sum(np.square(np.linalg.norm(tokvec[clustassign == _c, :] - mvec[_i, :], axis=1))) for _i, _c in enumerate(np.unique(clustassign))])\n"
   ]
  },
  {
   "cell_type": "code",
   "execution_count": 19,
   "metadata": {},
   "outputs": [
    {
     "name": "stdout",
     "output_type": "stream",
     "text": [
      "Iteration:  0, J_clust: 7467.56, Change: -8.29%\n",
      "Iteration:  1, J_clust: 6945.21, Change: -6.99%\n",
      "Iteration:  2, J_clust: 6646.57, Change: -4.30%\n",
      "Iteration:  3, J_clust: 6266.99, Change: -5.71%\n",
      "Iteration:  4, J_clust: 6200.14, Change: -1.07%\n",
      "Iteration:  5, J_clust: 6066.19, Change: -2.16%\n",
      "Iteration:  6, J_clust: 5973.34, Change: -1.53%\n",
      "Iteration:  7, J_clust: 5909.82, Change: -1.06%\n",
      "Iteration:  8, J_clust: 5811.22, Change: -1.67%\n",
      "Iteration:  9, J_clust: 5684.04, Change: -2.19%\n",
      "Iteration: 10, J_clust: 5609.77, Change: -1.31%\n",
      "Iteration: 11, J_clust: 5544.07, Change: -1.17%\n",
      "Iteration: 12, J_clust: 5543.29, Change: -0.01%\n",
      "Iteration: 13, J_clust: 5543.29, Change: 0.00%\n",
      "Iteration: 14, J_clust: 5543.29, Change: 0.00%\n",
      "Iteration: 15, J_clust: 5543.29, Change: 0.00%\n",
      "Iteration: 16, J_clust: 5543.29, Change: 0.00%\n",
      "Iteration: 17, J_clust: 5543.29, Change: 0.00%\n",
      "Iteration: 18, J_clust: 5543.29, Change: 0.00%\n",
      "Iteration: 19, J_clust: 5543.29, Change: 0.00%\n"
     ]
    }
   ],
   "source": [
    "k = 3\n",
    "# Random starting means.\n",
    "mvec = tokvec[list(np.random.randint(0, tokvec.shape[0], k)), :]\n",
    "\n",
    "# Cluster assingment for the random means.\n",
    "clustassign = np.array([get_cluster_assignment(_tvec, mvec) for _tvec in tokvec])\n",
    "\n",
    "# Compute J_clust\n",
    "J_clust_curr = get_j_clust(tokvec, mvec, clustassign)\n",
    "\n",
    "# Iterate now.\n",
    "n_iter = 20\n",
    "for i in range(n_iter):\n",
    "    # Update the means.\n",
    "    mvec = get_cluster_mean(tokvec, clustassign)\n",
    "    \n",
    "    # Update the cluster assignment.\n",
    "    clustassign = np.array([get_cluster_assignment(_tvec, mvec) for _tvec in tokvec])\n",
    "    \n",
    "    # Update J_clust\n",
    "    J_clust_prev = J_clust_curr\n",
    "    J_clust_curr = get_j_clust(tokvec, mvec, clustassign)\n",
    "\n",
    "    print(f\"Iteration: {i:2d}, J_clust: {J_clust_curr:6.2f}, Change: {100 * (J_clust_curr - J_clust_prev) / J_clust_prev:.2f}%\")"
   ]
  },
  {
   "cell_type": "code",
   "execution_count": 20,
   "metadata": {},
   "outputs": [],
   "source": [
    "# Functions for performing k-means algorithm \n",
    "def get_cluster_assignment(tvec, mvec):\n",
    "    return np.argmin(np.linalg.norm(mvec - tvec, axis=1))\n",
    "\n",
    "def get_cluster_mean(tokvec, clustassign):\n",
    "    return np.array([np.mean(tokvec[clustassign == _c, :], axis=0)\n",
    "                     for _c in np.unique(clustassign)])\n",
    "\n",
    "def get_j_clust(tokvec, mvec, clustassign):\n",
    "    return np.sum([np.sum(np.square(np.linalg.norm(tokvec[clustassign == _c, :] - mvec[_i, :], axis=1))) for _i, _c in enumerate(np.unique(clustassign))])\n"
   ]
  },
  {
   "cell_type": "markdown",
   "metadata": {},
   "source": [
    "### Demo of kmean class from chap01 module"
   ]
  },
  {
   "cell_type": "code",
   "execution_count": 21,
   "metadata": {},
   "outputs": [],
   "source": [
    "# Generate sample data\n",
    "_x1 = np.random.randn(100, 2) + np.array([4, 4])\n",
    "_x2 = np.random.randn(100, 2)\n",
    "X = np.vstack([_x1, _x2])\n",
    "# Randomly reorder the rows\n",
    "np.random.shuffle(X)"
   ]
  },
  {
   "cell_type": "code",
   "execution_count": 24,
   "metadata": {},
   "outputs": [],
   "source": [
    "k=2\n",
    "km = chap01.KMeans(X, 2)\n",
    "cm, ca, j = km.fit()"
   ]
  },
  {
   "cell_type": "code",
   "execution_count": 25,
   "metadata": {},
   "outputs": [
    {
     "data": {
      "image/png": "[encoded data removed]",
      "text/plain": [
       "<Figure size 1500x250 with 4 Axes>"
      ]
     },
     "metadata": {},
     "output_type": "display_data"
    }
   ],
   "source": [
    "# Plot the k-mean algorithm evolution.\n",
    "colors = [\"tab:blue\", \"tab:red\", \"tab:green\", \"tab:orange\", \"tab:purple\", \"tab:brown\", \"tab:pink\", \"tab:gray\", \"tab:olive\", \"tab:cyan\"]\n",
    "n = len(cm)\n",
    "m = (n // 5) + 1\n",
    "fig = plt.figure(figsize=(15, 2.5 * m))\n",
    "for i in range(n):\n",
    "    ax = fig.add_subplot(m, 5, i + 1)\n",
    "    for _k in range(k):\n",
    "        ax.scatter(X[ca[i] == _k, 0], X[ca[i] == _k, 1], s=25, color=colors[_k],\n",
    "                   marker=\"x\", alpha=0.2)\n",
    "    for _k in range(k):\n",
    "        ax.scatter(cm[i][_k, 0], cm[i][_k, 1], s=50, marker=\"o\", alpha=1, \n",
    "                   color=colors[_k], edgecolors=\"black\") \n",
    "    ax.set_title(f\"Iter: {i + 1}: J = {j[i]:.1f}\")"
   ]
  },
  {
   "cell_type": "markdown",
   "metadata": {},
   "source": [
    "#### Similarity problem"
   ]
  },
  {
   "cell_type": "code",
   "execution_count": 58,
   "metadata": {},
   "outputs": [
    {
     "data": {
      "text/plain": [
       "array([[ 0.        , 22.09275899, 28.51122586, 30.24384235],\n",
       "       [22.09275899,  0.        ,  9.69535971, 30.6757233 ],\n",
       "       [28.51122586,  9.69535971,  0.        , 26.32489316],\n",
       "       [30.24384235, 30.6757233 , 26.32489316,  0.        ]])"
      ]
     },
     "execution_count": 58,
     "metadata": {},
     "output_type": "execute_result"
    }
   ],
   "source": [
    "X = np.array([\n",
    "    [167, 102, 36.6],\n",
    "    [180, 87, 26.9],\n",
    "    [177, 78, 24.9],\n",
    "    [152, 76, 32.9],\n",
    "]).T\n",
    "\n",
    "# Compute the distance between the points.\n",
    "np.array([[np.linalg.norm(_v1 - _v2) for _v2 in X.T] for _v1 in X.T])"
   ]
  },
  {
   "cell_type": "code",
   "execution_count": 59,
   "metadata": {},
   "outputs": [
    {
     "data": {
      "text/plain": [
       "array([[ 0.        , 17.86356347, 26.70018727, 26.26237803],\n",
       "       [17.86356347,  0.        ,  9.21959327, 12.5330922 ],\n",
       "       [26.70018727,  9.21959327,  0.        ,  8.25      ],\n",
       "       [26.26237803, 12.5330922 ,  8.25      ,  0.        ]])"
      ]
     },
     "execution_count": 59,
     "metadata": {},
     "output_type": "execute_result"
    }
   ],
   "source": [
    "X1 = X * np.array([0.01, 1, 1]).reshape(-1, 1)\n",
    "# Compute the distance between the points.\n",
    "np.array([[np.linalg.norm(_v1 - _v2) for _v2 in X1.T] for _v1 in X1.T])"
   ]
  },
  {
   "cell_type": "markdown",
   "metadata": {},
   "source": [
    "##### Angle similarity"
   ]
  },
  {
   "cell_type": "code",
   "execution_count": 60,
   "metadata": {},
   "outputs": [
    {
     "data": {
      "text/plain": [
       "array([[0.  , 6.27, 8.21, 4.78],\n",
       "       [6.27, 0.  , 2.02, 3.38],\n",
       "       [8.21, 2.02, 0.  , 4.55],\n",
       "       [4.78, 3.38, 4.55, 0.  ]])"
      ]
     },
     "execution_count": 60,
     "metadata": {},
     "output_type": "execute_result"
    }
   ],
   "source": [
    "def angle_between(v1, v2):\n",
    "    return (180 / np.pi) * np.arccos(np.max([-1, np.min([1, np.dot(v1, v2) / (np.linalg.norm(v1) * np.linalg.norm(v2))])]))\n",
    "\n",
    "# Compute the distance between the points.\n",
    "np.round(100 * np.array([[angle_between(_v1, _v2) for _v2 in X.T] for _v1 in X.T])) / 100"
   ]
  },
  {
   "cell_type": "code",
   "execution_count": 61,
   "metadata": {},
   "outputs": [
    {
     "data": {
      "text/plain": [
       "array([[0.  , 2.57, 2.06, 3.67],\n",
       "       [2.57, 0.  , 0.53, 6.23],\n",
       "       [2.06, 0.53, 0.  , 5.7 ],\n",
       "       [3.67, 6.23, 5.7 , 0.  ]])"
      ]
     },
     "execution_count": 61,
     "metadata": {},
     "output_type": "execute_result"
    }
   ],
   "source": [
    "# Compute the distance between the points.\n",
    "np.round(100 * np.array([[angle_between(_v1, _v2) for _v2 in X1.T] for _v1 in X1.T])) / 100"
   ]
  },
  {
   "cell_type": "code",
   "execution_count": 63,
   "metadata": {},
   "outputs": [
    {
     "data": {
      "text/plain": [
       "array([[167. , 180. , 177. , 152. ],\n",
       "       [102. ,  87. ,  78. ,  76. ],\n",
       "       [ 36.6,  26.9,  24.9,  32.9]])"
      ]
     },
     "execution_count": 63,
     "metadata": {},
     "output_type": "execute_result"
    }
   ],
   "source": [
    "X"
   ]
  },
  {
   "cell_type": "code",
   "execution_count": 64,
   "metadata": {},
   "outputs": [
    {
     "data": {
      "text/plain": [
       "array([[  1.67,   1.8 ,   1.77,   1.52],\n",
       "       [102.  ,  87.  ,  78.  ,  76.  ],\n",
       "       [ 36.6 ,  26.9 ,  24.9 ,  32.9 ]])"
      ]
     },
     "execution_count": 64,
     "metadata": {},
     "output_type": "execute_result"
    }
   ],
   "source": [
    "X1"
   ]
  },
  {
   "cell_type": "code",
   "execution_count": 66,
   "metadata": {},
   "outputs": [
    {
     "data": {
      "text/plain": [
       "array([[0.84, 0.89, 0.91, 0.88],\n",
       "       [0.51, 0.43, 0.4 , 0.44],\n",
       "       [0.18, 0.13, 0.13, 0.19]])"
      ]
     },
     "execution_count": 66,
     "metadata": {},
     "output_type": "execute_result"
    }
   ],
   "source": [
    "np.round(100 * np.array([v / np.linalg.norm(v) for v in X.T]).T) / 100"
   ]
  },
  {
   "cell_type": "code",
   "execution_count": 67,
   "metadata": {},
   "outputs": [
    {
     "data": {
      "text/plain": [
       "array([[0.02, 0.02, 0.02, 0.02],\n",
       "       [0.94, 0.96, 0.95, 0.92],\n",
       "       [0.34, 0.3 , 0.3 , 0.4 ]])"
      ]
     },
     "execution_count": 67,
     "metadata": {},
     "output_type": "execute_result"
    }
   ],
   "source": [
    "np.round(100 * np.array([v / np.linalg.norm(v) for v in X1.T]).T) / 100"
   ]
  },
  {
   "cell_type": "code",
   "execution_count": null,
   "metadata": {},
   "outputs": [],
   "source": []
  }
 ],
 "metadata": {
  "kernelspec": {
   "display_name": "alada",
   "language": "python",
   "name": "python3"
  },
  "language_info": {
   "codemirror_mode": {
    "name": "ipython",
    "version": 3
   },
   "file_extension": ".py",
   "mimetype": "text/x-python",
   "name": "python",
   "nbconvert_exporter": "python",
   "pygments_lexer": "ipython3",
   "version": "3.10.11"
  }
 },
 "nbformat": 4,
 "nbformat_minor": 2
}
